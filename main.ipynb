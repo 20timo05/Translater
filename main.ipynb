{
 "cells": [
  {
   "cell_type": "code",
   "execution_count": 1,
   "metadata": {},
   "outputs": [],
   "source": [
    "import torch\n",
    "from tqdm import tqdm\n",
    "\n",
    "from preprocessing import load_tokenizer_and_dataset\n",
    "from GPT import GPT\n",
    "from parameters import (\n",
    "    BATCH_SIZE,\n",
    "    device,\n",
    "    MAX_STEPS,\n",
    "    LEARNING_RATE,\n",
    "    EVAL_INTERVAL,\n",
    "    EVAL_LOSS_BATCHES\n",
    ")"
   ]
  },
  {
   "cell_type": "code",
   "execution_count": 2,
   "metadata": {},
   "outputs": [],
   "source": [
    "with open(\"data/translation.txt\", \"r\", encoding=\"utf-8\") as f:\n",
    "    data = f.read().splitlines()\n",
    "\n",
    "# load data\n",
    "translations = []\n",
    "for sample in data:\n",
    "    english, german, src = sample.split(\"\\t\")\n",
    "    translations.append((english, german))"
   ]
  },
  {
   "cell_type": "code",
   "execution_count": 3,
   "metadata": {},
   "outputs": [],
   "source": [
    "tokenizer, eng_data, ger_data = load_tokenizer_and_dataset(\"models/tokenizer.pkl\")\n",
    "\n",
    "# shuffle data (so that when splitting into train, val, test each has both short and long text sequences)\n",
    "shuffle = torch.randperm(eng_data.size(0))\n",
    "eng_data, ger_data = eng_data[shuffle], ger_data[shuffle]\n",
    "\n",
    "n_split1, n_split2 = int(eng_data.size(0) * 0.8), int(eng_data.size(0) * 0.9)\n",
    "train_data = (eng_data[:n_split1], ger_data[:n_split1])\n",
    "val_data = (eng_data[n_split1:n_split2], ger_data[n_split1:n_split2])\n",
    "test_data = (eng_data[n_split2:], ger_data[n_split2:])\n",
    "\n",
    "pad_token = [key for key, value in tokenizer.vocab.items() if value == b\"<|PAD|>\"][0]"
   ]
  },
  {
   "cell_type": "code",
   "execution_count": 4,
   "metadata": {},
   "outputs": [
    {
     "name": "stdout",
     "output_type": "stream",
     "text": [
      "You_ always_ have_ the_ right_ to_ ref_use_ treat_ment_,_ how_ever_,_ I_ must_ explain_ the_ potent_ial_ con_se_qu_en_ces_ if_ that_ will_ be_ your_ choice_.\n",
      "Sie_ können_ die_ Be_hand_l_ung_ jederzeit_ able_hnen_;_ aller_d_ings_ muss_ ich_ Sie_ in_ diesem_ F_all_ über_ die_ möglich_en_ Aus_w_ir_k_ungen_ aufkl_ären_.\n"
     ]
    }
   ],
   "source": [
    "english, german = translations[-100]\n",
    "eng_enc, ger_enc = tokenizer.encode(english), tokenizer.encode(german)\n",
    "\n",
    "print(\"_\".join([tokenizer.vocab[idx].decode(\"utf-8\") for idx in eng_enc]))\n",
    "print(\"_\".join([tokenizer.vocab[idx].decode(\"utf-8\") for idx in ger_enc]))"
   ]
  },
  {
   "cell_type": "code",
   "execution_count": 5,
   "metadata": {},
   "outputs": [],
   "source": [
    "# Loader that returns a batch\n",
    "def get_batch(split):\n",
    "    data = train_data if split == \"train\" else val_data if split == \"val\" else test_data\n",
    "    ix = torch.randint(0, len(data[0]), (BATCH_SIZE, ))\n",
    "    \n",
    "    encoder_input = torch.stack([data[0][i] for i in ix]) # [BATCH_SIZE, CONTEXT_SIZE]\n",
    "    decoder_input = torch.stack([data[1][i][:-1] for i in ix]) # [BATCH_SIZE, CONTEXT_SIZE]\n",
    "    target = torch.stack([data[1][i][1:] for i in ix]) # [BATCH_SIZE, CONTEXT_SIZE]\n",
    "    encoder_input, decoder_input, target = encoder_input.to(device), decoder_input.to(device), target.to(device)\n",
    "    return (encoder_input, decoder_input, target)"
   ]
  },
  {
   "cell_type": "code",
   "execution_count": 6,
   "metadata": {},
   "outputs": [
    {
     "name": "stdout",
     "output_type": "stream",
     "text": [
      "There were stacks of books all over the floor.<|PAD|><|PAD|><|PAD|><|PAD|><|PAD|><|PAD|>\n",
      "<|STARTOFTEXT|>Auf dem Fußboden waren überall Bücher gestapelt.<|ENDOFTEXT|><|PAD|><|PAD|><|PAD|><|PAD|><|PAD|><|PAD|>\n",
      "Auf dem Fußboden waren überall Bücher gestapelt.<|ENDOFTEXT|><|PAD|><|PAD|><|PAD|><|PAD|><|PAD|><|PAD|><|PAD|>\n"
     ]
    }
   ],
   "source": [
    "enc, dec, tar = get_batch(\"train\")\n",
    "\n",
    "print(tokenizer.decode(enc[0].tolist()))\n",
    "print(tokenizer.decode(dec[0].tolist()))\n",
    "print(tokenizer.decode(tar[0].tolist()))"
   ]
  },
  {
   "cell_type": "code",
   "execution_count": 7,
   "metadata": {},
   "outputs": [],
   "source": [
    "# calculate mean loss for {EVAL_LOSS_BATCHES}x batches\n",
    "@torch.no_grad()\n",
    "def estimate_loss():\n",
    "    global model, pad_token \n",
    "    out = {}\n",
    "    model.eval()\n",
    "\n",
    "    for split in [\"train\", \"val\"]:\n",
    "        losses = torch.zeros(EVAL_LOSS_BATCHES, device=device)\n",
    "        for i in tqdm(range(EVAL_LOSS_BATCHES)):\n",
    "            enc_input, dec_input, target = get_batch(split)\n",
    "            _, loss = model(enc_input, dec_input, target, ignore_index=pad_token)\n",
    "            losses[i] = loss.item()\n",
    "        out[split] = losses.mean()  \n",
    "    model.train()\n",
    "    return out"
   ]
  },
  {
   "cell_type": "code",
   "execution_count": 8,
   "metadata": {},
   "outputs": [],
   "source": [
    "model = GPT(tokenizer)\n",
    "\n",
    "if False:\n",
    "    model.to(device)\n",
    "\n",
    "\n",
    "    \"\"\" Training Loop \"\"\"\n",
    "    optimizer = torch.optim.AdamW(model.parameters(), lr=LEARNING_RATE)\n",
    "\n",
    "    for step in tqdm(range(MAX_STEPS)):\n",
    "        # calculate loss every once in a while\n",
    "        if step % EVAL_INTERVAL == 0:\n",
    "            losses = estimate_loss()\n",
    "            print(f\"Step {step}/{MAX_STEPS}) train: {losses['train']:.4f}, val: {losses['val']:.4f}\")\n",
    "\n",
    "        enc_input, dec_input, target = get_batch(\"train\")\n",
    "        \n",
    "        logits, loss = model(enc_input, dec_input, target, ignore_index=pad_token)\n",
    "        optimizer.zero_grad(set_to_none=True)\n",
    "        loss.backward()\n",
    "        optimizer.step()\n",
    "else:\n",
    "    model.load_state_dict(torch.load(\"./models/gpt.pth\", map_location=torch.device(device)))"
   ]
  },
  {
   "cell_type": "code",
   "execution_count": 18,
   "metadata": {},
   "outputs": [
    {
     "data": {
      "text/plain": [
       "'Nun, das ist noch immer ganz übel.'"
      ]
     },
     "execution_count": 18,
     "metadata": {},
     "output_type": "execute_result"
    }
   ],
   "source": [
    "model.translate(\"Ok, this is still pretty bad.\")"
   ]
  },
  {
   "cell_type": "code",
   "execution_count": null,
   "metadata": {},
   "outputs": [],
   "source": []
  }
 ],
 "metadata": {
  "kernelspec": {
   "display_name": "Python 3",
   "language": "python",
   "name": "python3"
  },
  "language_info": {
   "codemirror_mode": {
    "name": "ipython",
    "version": 3
   },
   "file_extension": ".py",
   "mimetype": "text/x-python",
   "name": "python",
   "nbconvert_exporter": "python",
   "pygments_lexer": "ipython3",
   "version": "3.11.5"
  }
 },
 "nbformat": 4,
 "nbformat_minor": 2
}
