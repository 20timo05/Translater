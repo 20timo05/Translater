{
 "cells": [
  {
   "cell_type": "markdown",
   "metadata": {},
   "source": [
    "## Encoder Pretraining - Masked Language Modeling\n",
    "\"The cat sits on the mat\" => \"The [MASK] sits on the [MASK]\"  \n",
    "Task: Predict \"cat\" and \"mat\""
   ]
  },
  {
   "cell_type": "code",
   "execution_count": 2,
   "metadata": {},
   "outputs": [],
   "source": [
    "import multiprocessing as mp\n",
    "from datasets import load_dataset\n",
    "import torch\n",
    "import torch.nn as nn\n",
    "\n",
    "from GPT import Encoder\n",
    "from preprocessing import load_tokenizer_and_dataset\n",
    "from parameters import REPLACE_FRACTION, MASK_FRACTION, RANDOM_TOKEN_FRACTION, VOCAB_SIZE, EMBEDDING_SIZE, CONTEXT_SIZE"
   ]
  },
  {
   "cell_type": "code",
   "execution_count": 3,
   "metadata": {},
   "outputs": [
    {
     "name": "stderr",
     "output_type": "stream",
     "text": [
      "Using the latest cached version of the dataset since wikitext couldn't be found on the Hugging Face Hub\n",
      "Found the latest cached dataset configuration 'wikitext-103-raw-v1' at C:\\Users\\q603178\\.cache\\huggingface\\datasets\\wikitext\\wikitext-103-raw-v1\\0.0.0\\b08601e04326c79dfdd32d625aee71d232d685c3 (last modified on Thu Aug  1 10:44:00 2024).\n"
     ]
    }
   ],
   "source": [
    "dataset = load_dataset(\"wikitext\", \"wikitext-103-raw-v1\", split=\"train[:1%]\")\n",
    "tokenizer = load_tokenizer_and_dataset(\"./models/tokenizer.pkl\")[0]"
   ]
  },
  {
   "cell_type": "code",
   "execution_count": 12,
   "metadata": {},
   "outputs": [
    {
     "data": {
      "text/plain": [
       "[b' interessanter',\n",
       " b' selfish',\n",
       " b' ego',\n",
       " b' egoistisch',\n",
       " b'<|STARTOFTEXT|>',\n",
       " b'<|ENDOFTEXT|>',\n",
       " b'<|PAD|>',\n",
       " '<|MASK|>',\n",
       " '<|MASK|>',\n",
       " '<|MASK|>']"
      ]
     },
     "execution_count": 12,
     "metadata": {},
     "output_type": "execute_result"
    }
   ],
   "source": [
    "list(tokenizer.vocab.values())[-10:]"
   ]
  },
  {
   "cell_type": "code",
   "execution_count": 6,
   "metadata": {},
   "outputs": [
    {
     "ename": "ValueError",
     "evalue": "too many values to unpack (expected 2)",
     "output_type": "error",
     "traceback": [
      "\u001b[1;31m---------------------------------------------------------------------------\u001b[0m",
      "\u001b[1;31mValueError\u001b[0m                                Traceback (most recent call last)",
      "Cell \u001b[1;32mIn[6], line 6\u001b[0m\n\u001b[0;32m      2\u001b[0m \u001b[38;5;28;01mfrom\u001b[39;00m \u001b[38;5;21;01mfunctools\u001b[39;00m \u001b[38;5;28;01mimport\u001b[39;00m partial\n\u001b[0;32m      5\u001b[0m tokenizer\u001b[38;5;241m.\u001b[39mvocab[\u001b[38;5;28mmax\u001b[39m(tokenizer\u001b[38;5;241m.\u001b[39mvocab) \u001b[38;5;241m+\u001b[39m \u001b[38;5;241m1\u001b[39m] \u001b[38;5;241m=\u001b[39m \u001b[38;5;124m\"\u001b[39m\u001b[38;5;124m<|MASK|>\u001b[39m\u001b[38;5;124m\"\u001b[39m\n\u001b[1;32m----> 6\u001b[0m mask_id, pad_id \u001b[38;5;241m=\u001b[39m tokenizer\u001b[38;5;241m.\u001b[39mencode(\u001b[38;5;124m\"\u001b[39m\u001b[38;5;124m<|MASK|><|PAD|>\u001b[39m\u001b[38;5;124m\"\u001b[39m)\n\u001b[0;32m      8\u001b[0m \u001b[38;5;28;01mdef\u001b[39;00m \u001b[38;5;21mclean_text\u001b[39m(examples):\n\u001b[0;32m      9\u001b[0m     \u001b[38;5;28;01mreturn\u001b[39;00m {\u001b[38;5;124m\"\u001b[39m\u001b[38;5;124mtext\u001b[39m\u001b[38;5;124m\"\u001b[39m: [text\u001b[38;5;241m.\u001b[39mstrip() \u001b[38;5;28;01mfor\u001b[39;00m text \u001b[38;5;129;01min\u001b[39;00m examples[\u001b[38;5;124m\"\u001b[39m\u001b[38;5;124mtext\u001b[39m\u001b[38;5;124m\"\u001b[39m] \u001b[38;5;28;01mif\u001b[39;00m text\u001b[38;5;241m.\u001b[39mstrip() \u001b[38;5;241m!=\u001b[39m \u001b[38;5;124m\"\u001b[39m\u001b[38;5;124m\"\u001b[39m]}\n",
      "\u001b[1;31mValueError\u001b[0m: too many values to unpack (expected 2)"
     ]
    }
   ],
   "source": [
    "# add [MASK] token to tokenizer\n",
    "from functools import partial\n",
    "\n",
    "if b\"<|MASK|>\" not in tokenizer.vocab.values():\n",
    "    tokenizer.vocab[max(tokenizer.vocab) + 1] = b\"<|MASK|>\"\n",
    "pad_token = [key for key, value in tokenizer.vocab.items() if value == b\"<|PAD|>\"][0]\n",
    "mask_token = tokenizer.encode(\"<|MASK|>\")[0], tokenizer.encode(\"<|PAD|>\")[0]\n",
    "\n",
    "def clean_text(examples):\n",
    "    return {\"text\": [text.strip() for text in examples[\"text\"] if text.strip() != \"\"]}\n",
    "\n",
    "# Apply cleaning function\n",
    "cleaned_dataset = dataset.map(\n",
    "    clean_text,\n",
    "    batched=True,\n",
    "    num_proc=mp.cpu_count(),\n",
    "    desc=\"Cleaning text\"\n",
    ")\n",
    "\n",
    "def tokenize_function(sample, tokenizer, mask_id, replace_fraction, mask_fraction, random_token_fraction):\n",
    "    import random\n",
    "\n",
    "    tokens = tokenizer.encode(sample[\"text\"])\n",
    "    \n",
    "    # store index and original value of replaced tokens to be used as targets in traing\n",
    "    original_values = []\n",
    "    indices_to_replace = random.sample(range(len(tokens)), int(len(tokens) * replace_fraction))\n",
    "\n",
    "    for i in indices_to_replace:\n",
    "        original_values.append(tokens[i])\n",
    "\n",
    "        rand = random.random()\n",
    "        if rand < mask_fraction:\n",
    "            tokens[i] = mask_id\n",
    "        elif rand < (mask_fraction + random_token_fraction):\n",
    "            tokens[i] = random.randint(0, mask_id)\n",
    "    \n",
    "    return {\n",
    "        \"tokens\": tokens,\n",
    "        \"masked_indices\": indices_to_replace,\n",
    "        \"original_values\": original_values\n",
    "    }\n",
    "    \n",
    "\n",
    "tokenize_function_partial = partial(\n",
    "    tokenize_function,\n",
    "    tokenizer=tokenizer,\n",
    "    mask_id=mask_id,\n",
    "    replace_fraction=REPLACE_FRACTION,\n",
    "    mask_fraction=MASK_FRACTION,\n",
    "    random_token_fraction=RANDOM_TOKEN_FRACTION\n",
    ")\n",
    "tokenized_dataset = cleaned_dataset.map(tokenize_function_partial, num_proc=mp.cpu_count(), remove_columns=[\"text\"], desc=\"Tokenize & Replace Tokens\")"
   ]
  },
  {
   "cell_type": "code",
   "execution_count": null,
   "metadata": {},
   "outputs": [
    {
     "ename": "NameError",
     "evalue": "name 'tokenized_dataset' is not defined",
     "output_type": "error",
     "traceback": [
      "\u001b[1;31m---------------------------------------------------------------------------\u001b[0m",
      "\u001b[1;31mNameError\u001b[0m                                 Traceback (most recent call last)",
      "Cell \u001b[1;32mIn[1], line 1\u001b[0m\n\u001b[1;32m----> 1\u001b[0m \u001b[43mtokenized_dataset\u001b[49m\n",
      "\u001b[1;31mNameError\u001b[0m: name 'tokenized_dataset' is not defined"
     ]
    }
   ],
   "source": [
    "tokenized_dataset"
   ]
  },
  {
   "cell_type": "code",
   "execution_count": null,
   "metadata": {},
   "outputs": [],
   "source": [
    "class MLM(nn.Module):\n",
    "    def __init__(self):\n",
    "        super().__init__()\n",
    "\n",
    "        # add an Embedding Table for Character Embedding\n",
    "        self.token_embedding_table = nn.Embedding(VOCAB_SIZE+1, EMBEDDING_SIZE)\n",
    "        self.position_embedding_table = nn.Embedding(CONTEXT_SIZE, EMBEDDING_SIZE)\n",
    "\n",
    "        self.encoder = Encoder()\n",
    "\n",
    "        self.lm_head = nn.Linear(EMBEDDING_SIZE, VOCAB_SIZE, bias=False)\n",
    "        # weight sharing (use same weights for Input Embeddings (token_embedding_table) and lm_head)\n",
    "        self.token_embedding_table.weight = self.lm_head.weight\n",
    "\n",
    "        self.apply(self._init_weights)\n",
    "\n",
    "    def _init_weights(self, module):\n",
    "        if isinstance(module, nn.Linear):\n",
    "            torch.nn.init.normal_(module.weight, mean=0.0, std=0.02)\n",
    "            if module.bias is not None:\n",
    "                torch.nn.init.zeros_(module.bias)\n",
    "        elif isinstance(module, nn.Embedding):\n",
    "            torch.nn.init.normal_(module.weight, mean=0.0, std=0.02)\n",
    "        elif isinstance(module, nn.LayerNorm):\n",
    "            torch.nn.init.ones_(module.weight)\n",
    "            torch.nn.init.zeros_(module.bias)\n"
   ]
  }
 ],
 "metadata": {
  "kernelspec": {
   "display_name": "Python 3",
   "language": "python",
   "name": "python3"
  },
  "language_info": {
   "codemirror_mode": {
    "name": "ipython",
    "version": 3
   },
   "file_extension": ".py",
   "mimetype": "text/x-python",
   "name": "python",
   "nbconvert_exporter": "python",
   "pygments_lexer": "ipython3",
   "version": "3.11.5"
  }
 },
 "nbformat": 4,
 "nbformat_minor": 2
}
