{
 "cells": [
  {
   "cell_type": "code",
   "execution_count": 41,
   "metadata": {},
   "outputs": [],
   "source": [
    "import torch\n",
    "import random\n",
    "import pickle\n",
    "import os\n",
    "from tqdm import tqdm\n",
    "\n",
    "from Tokenizer import RegexTokenizer"
   ]
  },
  {
   "cell_type": "code",
   "execution_count": 42,
   "metadata": {},
   "outputs": [],
   "source": [
    "with open(\"data/translation.txt\", \"r\", encoding=\"utf-8\") as f:\n",
    "    data = f.read().splitlines()\n",
    "\n",
    "# data preprocessing\n",
    "translations = []\n",
    "for sample in data:\n",
    "    english, german, src = sample.split(\"\\t\")\n",
    "    translations.append((english, german))"
   ]
  },
  {
   "cell_type": "code",
   "execution_count": 43,
   "metadata": {},
   "outputs": [],
   "source": [
    "# Hyperparameters\n",
    "NUM_MERGES = 10000\n",
    "SPECIAL_TOKENS = [b\"<|ENDOFTEXT|>\", b\"<PAD>\"]\n",
    "VOCAB_SIZE = 256 + NUM_MERGES + len(SPECIAL_TOKENS)\n",
    "\n",
    "EMBEDDING_SIZE = 32\n",
    "CONTEXT_SIZE = 8\n",
    "BATCH_SIZE = 32\n",
    "MAX_STEPS = 5000\n",
    "LEARNING_RATE = 3E-4\n",
    "BLOCK_COUNT = 2\n",
    "NUM_HEADS = 2\n",
    "DROPOUT = 0.1\n",
    "HEAD_SIZE = 16 # How big Query, Key and Value matrices are\n",
    "device = 'cuda' if torch.cuda.is_available() else \"cpu\"\n",
    "EVAL_INTERVAL = 500\n",
    "EVAL_LOSS_BATCHES = 200\n",
    "GPT4_SPLIT_PATTERN = r\"\"\"'(?i:[sdmt]|ll|ve|re)|[^\\r\\n\\p{L}\\p{N}]?+\\p{L}+|\\p{N}{1,3}| ?[^\\s\\p{L}\\p{N}]++[\\r\\n]*|\\s*[\\r\\n]|\\s+(?!\\S)|\\s+\"\"\""
   ]
  },
  {
   "cell_type": "code",
   "execution_count": 44,
   "metadata": {},
   "outputs": [
    {
     "name": "stdout",
     "output_type": "stream",
     "text": [
      "Load Tokenizer...\n"
     ]
    }
   ],
   "source": [
    "# Tokenization\n",
    "tokenizer = RegexTokenizer(GPT4_SPLIT_PATTERN)\n",
    "tokenizer_file_path = \"models/tokenizer.pkl\"\n",
    "if os.path.exists(tokenizer_file_path):\n",
    "    print(\"Load Tokenizer...\")\n",
    "    with open(tokenizer_file_path, \"rb\") as f:\n",
    "        combined_dict = pickle.load(f)\n",
    "\n",
    "    # Extract vocab and merges dictionaries from the combined dictionary\n",
    "    tokenizer.vocab = combined_dict[\"vocab\"]\n",
    "    tokenizer.merges = combined_dict[\"merges\"]\n",
    "\n",
    "else:\n",
    "    print(\"Train Tokenizer...\")\n",
    "    # only use a subset of the original dataset for tokenizer training\n",
    "    translations_subset = random.sample(translations, int(len(translations) * 0.05))\n",
    "    tokenizer.train(translations_subset, vocab_size=VOCAB_SIZE)\n",
    "\n",
    "    # Save the combined dictionary to a JSON file\n",
    "    with open(tokenizer_file_path, \"wb\") as f:\n",
    "        pickle.dump({\"vocab\": tokenizer.vocab, \"merges\": tokenizer.merges}, f)\n",
    "\n",
    "for st in SPECIAL_TOKENS:\n",
    "    tokenizer.vocab[max(tokenizer.vocab)+1] = st"
   ]
  },
  {
   "cell_type": "code",
   "execution_count": 45,
   "metadata": {},
   "outputs": [
    {
     "name": "stdout",
     "output_type": "stream",
     "text": [
      "You_ always_ have_ the_ right_ to_ refuse_ treat_ment_,_ how_ever_,_ I_ must_ explain_ the_ pot_ential_ con_se_qu_en_ces_ if_ that_ will_ be_ your_ choice_.\n",
      "Sie_ können_ die_ B_eh_and_lung_ jeder_zeit_ ab_l_ehnen_;_ aller_d_ings_ muss_ ich_ Sie_ in_ diesem_ Fall_ über_ die_ möglich_en_ Aus_w_ir_kungen_ auf_kl_ären_.\n"
     ]
    }
   ],
   "source": [
    "english, german = translations[-100]\n",
    "eng_enc, ger_enc = tokenizer.encode(english), tokenizer.encode(german)\n",
    "\n",
    "print(\"_\".join([tokenizer.vocab[idx].decode(\"utf-8\") for idx in eng_enc]))\n",
    "print(\"_\".join([tokenizer.vocab[idx].decode(\"utf-8\") for idx in ger_enc]))"
   ]
  },
  {
   "cell_type": "code",
   "execution_count": null,
   "metadata": {},
   "outputs": [],
   "source": []
  }
 ],
 "metadata": {
  "kernelspec": {
   "display_name": "Python 3",
   "language": "python",
   "name": "python3"
  },
  "language_info": {
   "codemirror_mode": {
    "name": "ipython",
    "version": 3
   },
   "file_extension": ".py",
   "mimetype": "text/x-python",
   "name": "python",
   "nbconvert_exporter": "python",
   "pygments_lexer": "ipython3",
   "version": "3.11.5"
  }
 },
 "nbformat": 4,
 "nbformat_minor": 2
}
