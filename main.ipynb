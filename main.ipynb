{
 "cells": [
  {
   "cell_type": "code",
   "execution_count": 1,
   "metadata": {},
   "outputs": [],
   "source": [
    "import torch\n",
    "import random\n",
    "import pickle\n",
    "import os\n",
    "from tqdm import tqdm\n",
    "\n",
    "from preprocessing import main as preprocess_data\n",
    "from GPT import GPT\n",
    "from parameters import (\n",
    "    GPT4_SPLIT_PATTERN,\n",
    "    VOCAB_SIZE,\n",
    "    SPECIAL_TOKENS,\n",
    "    CONTEXT_SIZE,\n",
    "    BATCH_SIZE,\n",
    "    device,\n",
    "    MAX_STEPS,\n",
    "    LEARNING_RATE,\n",
    "    EVAL_INTERVAL,\n",
    "    EVAL_LOSS_BATCHES\n",
    ")"
   ]
  },
  {
   "cell_type": "code",
   "execution_count": null,
   "metadata": {},
   "outputs": [],
   "source": [
    "with open(\"data/translation.txt\", \"r\", encoding=\"utf-8\") as f:\n",
    "    data = f.read().splitlines()\n",
    "\n",
    "# load data\n",
    "translations = []\n",
    "for sample in data:\n",
    "    english, german, src = sample.split(\"\\t\")\n",
    "    translations.append((english, german))"
   ]
  },
  {
   "cell_type": "code",
   "execution_count": 5,
   "metadata": {},
   "outputs": [
    {
     "name": "stderr",
     "output_type": "stream",
     "text": [
      "  0%|          | 0/277891 [00:00<?, ?it/s]"
     ]
    },
    {
     "name": "stderr",
     "output_type": "stream",
     "text": [
      "100%|██████████| 277891/277891 [3:07:26<00:00, 24.71it/s]  \n"
     ]
    }
   ],
   "source": [
    "tokenizer, eng_data, ger_data = preprocess_data(translations)\n",
    "\n",
    "n_split1, n_split2 = int(len(translations) * 0.8), int(len(translations) * 0.9)\n",
    "train_data = (eng_data[:n_split1], ger_data[:n_split1])\n",
    "val_data = (eng_data[n_split1:n_split2], ger_data[n_split1:n_split2])\n",
    "test_data = (eng_data[n_split2:], ger_data[n_split2:])"
   ]
  },
  {
   "cell_type": "code",
   "execution_count": null,
   "metadata": {},
   "outputs": [],
   "source": [
    "english, german = translations[-100]\n",
    "eng_enc, ger_enc = tokenizer.encode(english), tokenizer.encode(german)\n",
    "\n",
    "print(\"_\".join([tokenizer.vocab[idx].decode(\"utf-8\") for idx in eng_enc]))\n",
    "print(\"_\".join([tokenizer.vocab[idx].decode(\"utf-8\") for idx in ger_enc]))"
   ]
  },
  {
   "cell_type": "code",
   "execution_count": 6,
   "metadata": {},
   "outputs": [
    {
     "data": {
      "text/plain": [
       "('Go.<|PAD|><|PAD|><|PAD|><|PAD|><|PAD|><|PAD|><|PAD|><|PAD|><|PAD|><|PAD|><|PAD|><|PAD|><|PAD|><|PAD|>',\n",
       " 'Geh.<|ENDOFTEXT|><|PAD|><|PAD|><|PAD|><|PAD|><|PAD|><|PAD|><|PAD|><|PAD|><|PAD|><|PAD|><|PAD|><|PAD|><|PAD|><|PAD|>')"
      ]
     },
     "execution_count": 6,
     "metadata": {},
     "output_type": "execute_result"
    }
   ],
   "source": [
    "eng, ger = train_data[0][0].tolist(), train_data[1][0].tolist()\n",
    "tokenizer.decode(eng), tokenizer.decode(ger)"
   ]
  },
  {
   "cell_type": "code",
   "execution_count": 7,
   "metadata": {},
   "outputs": [],
   "source": [
    "# Loader that returns a batch\n",
    "def get_batch(split):\n",
    "    data = train_data if split == \"train\" else val_data if split == \"val\" else test_data\n",
    "    ix = torch.randint(0, len(data), (BATCH_SIZE, ))\n",
    "    \n",
    "    encoder_input = torch.stack([data[0][i] for i in ix]) # [BATCH_SIZE, CONTEXT_SIZE]\n",
    "    decoder_input = torch.stack([data[1][i][:-1] for i in ix]) # [BATCH_SIZE, CONTEXT_SIZE]\n",
    "    target = torch.stack([data[1][i][1:] for i in ix]) # [BATCH_SIZE, CONTEXT_SIZE]\n",
    "    encoder_input, decoder_input, target = encoder_input.to(device), decoder_input.to(device), target.to(device)\n",
    "    return (encoder_input, decoder_input, target)"
   ]
  },
  {
   "cell_type": "code",
   "execution_count": 8,
   "metadata": {},
   "outputs": [
    {
     "name": "stdout",
     "output_type": "stream",
     "text": [
      "Go.<|PAD|><|PAD|><|PAD|><|PAD|><|PAD|><|PAD|><|PAD|><|PAD|><|PAD|><|PAD|><|PAD|><|PAD|><|PAD|><|PAD|>\n",
      "Geh.<|ENDOFTEXT|><|PAD|><|PAD|><|PAD|><|PAD|><|PAD|><|PAD|><|PAD|><|PAD|><|PAD|><|PAD|><|PAD|><|PAD|><|PAD|>\n",
      ".<|ENDOFTEXT|><|PAD|><|PAD|><|PAD|><|PAD|><|PAD|><|PAD|><|PAD|><|PAD|><|PAD|><|PAD|><|PAD|><|PAD|><|PAD|><|PAD|>\n"
     ]
    }
   ],
   "source": [
    "enc, dec, tar = get_batch(\"train\")\n",
    "\n",
    "print(tokenizer.decode(enc[0].tolist()))\n",
    "print(tokenizer.decode(dec[0].tolist()))\n",
    "print(tokenizer.decode(tar[0].tolist()))"
   ]
  },
  {
   "cell_type": "code",
   "execution_count": 9,
   "metadata": {},
   "outputs": [],
   "source": [
    "# calculate mean loss for {EVAL_LOSS_BATCHES}x batches\n",
    "@torch.no_grad()\n",
    "def estimate_loss():\n",
    "    global model\n",
    "    out = {}\n",
    "    model.eval()\n",
    "    for split in [\"train\", \"val\"]:\n",
    "        losses = torch.zeros(EVAL_LOSS_BATCHES, device=device)\n",
    "        for i in tqdm(range(EVAL_LOSS_BATCHES)):\n",
    "            enc_input, dec_input, target = get_batch(split)\n",
    "            _, loss = model(enc_input, dec_input, target)\n",
    "            losses[i] = loss.item()\n",
    "        out[split] = losses.mean()  \n",
    "    model.train()\n",
    "    return out"
   ]
  },
  {
   "cell_type": "code",
   "execution_count": null,
   "metadata": {},
   "outputs": [],
   "source": [
    "model = GPT()\n",
    "model.to(device)\n",
    "\n",
    "\"\"\" Training Loop \"\"\"\n",
    "optimizer = torch.optim.AdamW(model.parameters(), lr=LEARNING_RATE)\n",
    "\n",
    "for step in tqdm(range(MAX_STEPS)):\n",
    "    # calculate loss every once in a while\n",
    "    if step % EVAL_INTERVAL == 0:\n",
    "        losses = estimate_loss()\n",
    "        print(f\"Step {step}/{MAX_STEPS}) train: {losses['train']:.4f}, val: {losses['val']:.4f}\")\n",
    "\n",
    "    enc_input, dec_input, target = get_batch(\"train\")\n",
    "    logits, loss = model(enc_input, dec_input, target)\n",
    "    optimizer.zero_grad(set_to_none=True)\n",
    "    loss.backward()\n",
    "    optimizer.step()"
   ]
  }
 ],
 "metadata": {
  "kernelspec": {
   "display_name": "Python 3",
   "language": "python",
   "name": "python3"
  },
  "language_info": {
   "codemirror_mode": {
    "name": "ipython",
    "version": 3
   },
   "file_extension": ".py",
   "mimetype": "text/x-python",
   "name": "python",
   "nbconvert_exporter": "python",
   "pygments_lexer": "ipython3",
   "version": "3.11.5"
  }
 },
 "nbformat": 4,
 "nbformat_minor": 2
}
